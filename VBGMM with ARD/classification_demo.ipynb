{
 "metadata": {
  "kernelspec": {
   "display_name": "Python 2",
   "language": "python",
   "name": "python2"
  },
  "language_info": {
   "codemirror_mode": {
    "name": "ipython",
    "version": 2
   },
   "file_extension": ".py",
   "mimetype": "text/x-python",
   "name": "python",
   "nbconvert_exporter": "python",
   "pygments_lexer": "ipython2",
   "version": "2.7.9"
  },
  "name": "",
  "signature": "sha256:cb57818af34780165e50f6a05328aaec225aad6773589452e69061e0c7c9c6ab"
 },
 "nbformat": 3,
 "nbformat_minor": 0,
 "worksheets": [
  {
   "cells": [
    {
     "cell_type": "code",
     "collapsed": false,
     "input": [
      "# vim: set filetype=python:"
     ],
     "language": "python",
     "metadata": {},
     "outputs": []
    },
    {
     "cell_type": "heading",
     "level": 1,
     "metadata": {},
     "source": [
      "Generative Classifier based on VBGMMARD"
     ]
    },
    {
     "cell_type": "code",
     "collapsed": false,
     "input": [
      "import numpy as np\n",
      "import matplotlib.pyplot as plt\n",
      "from sklearn import datasets\n",
      "from sklearn.cross_validation import train_test_split\n",
      "from vbgmmard import VBGMMARDClassifier\n",
      "from sklearn.metrics import confusion_matrix\n",
      "%matplotlib inline"
     ],
     "language": "python",
     "metadata": {},
     "outputs": [],
     "prompt_number": 1
    },
    {
     "cell_type": "heading",
     "level": 2,
     "metadata": {},
     "source": [
      "Iris data example"
     ]
    },
    {
     "cell_type": "raw",
     "metadata": {},
     "source": [
      "On standard iris data Generative classifier that is based on VBGMMARD makes no errors."
     ]
    },
    {
     "cell_type": "code",
     "collapsed": false,
     "input": [
      "iris         = datasets.load_iris()\n",
      "Xi,Yi        = iris.data, iris.target\n",
      "Xi,xi,Yi,yi  = train_test_split(Xi,Yi, test_size = 0.4, random_state = 1)\n",
      "gmm_clf      = VBGMMARDClassifier(max_components = [20,20,20], mfa_max_iter = 30,\n",
      "                                  prune_thresh = 1e-5, rand_state = 1)\n",
      "gmm_clf.fit(Xi,Yi)\n",
      "yi_predict   = gmm_clf.predict(xi)"
     ],
     "language": "python",
     "metadata": {},
     "outputs": [],
     "prompt_number": 35
    },
    {
     "cell_type": "code",
     "collapsed": false,
     "input": [
      "print ' \\n Confusion Matrix for Generative Classifier based on VBGMMARD \\n'\n",
      "print confusion_matrix(yi,yi_predict)"
     ],
     "language": "python",
     "metadata": {},
     "outputs": [
      {
       "output_type": "stream",
       "stream": "stdout",
       "text": [
        " \n",
        " Confusion Matrix for Generative Classifier based on VBGMMARD \n",
        "\n",
        "[[19  0  0]\n",
        " [ 0 21  0]\n",
        " [ 0  0 20]]\n"
       ]
      }
     ],
     "prompt_number": 39
    },
    {
     "cell_type": "heading",
     "level": 2,
     "metadata": {},
     "source": [
      "Synthetic example"
     ]
    },
    {
     "cell_type": "code",
     "collapsed": false,
     "input": [
      "# create data & split into train and test\n",
      "X          = np.random.random([1200,2])\n",
      "Y          = np.zeros(1200)\n",
      "X[0:200,:] = np.random.multivariate_normal(mean = (0,20), cov = [[2,0],[0,2]],\n",
      "                                           size = 200)\n",
      "X[200:400,:] = np.random.multivariate_normal(mean = (0,0), cov = [[3,0],[0,1]],\n",
      "                                             size = 200)\n",
      "X[400:600,:] = np.random.multivariate_normal(mean = (10,10), cov = [[1,0],[0,1]],\n",
      "                                             size = 200)\n",
      "X[600:800,:] = np.random.multivariate_normal(mean = (10,20), cov = [[2,0],[0,2]],\n",
      "                                           size = 200)\n",
      "X[800:1000,:] = np.random.multivariate_normal(mean = (10,0), cov = [[3,0],[0,1]],\n",
      "                                             size = 200)\n",
      "X[1000:1200,:] = np.random.multivariate_normal(mean = (0,10), cov = [[1,0],[0,1]],\n",
      "                                             size = 200)\n",
      "Y[0:600] = 1\n",
      "X,x,Y,y  = train_test_split(X,Y, test_size = 0.5)\n",
      "\n",
      "\n",
      "# fit data\n",
      "clf = VBGMMARDClassifier(max_components = [20,20])\n",
      "clf.fit(X,Y)\n",
      "\n",
      "# predict data\n",
      "y_hat = clf.predict(x)\n",
      "print '\\n Confusion Matrix on test set\\n'\n",
      "print confusion_matrix(y_hat,y)\n",
      "\n",
      "# create grid\n",
      "n_grid     = 500\n",
      "max_x      = np.max(X,axis = 0)\n",
      "min_x      = np.min(X,axis = 0)\n",
      "X1         = np.linspace(min_x[0],max_x[0],n_grid)\n",
      "X2         = np.linspace(min_x[1],max_x[1],n_grid)\n",
      "x1,x2      = np.meshgrid(X1,X2)\n",
      "Xgrid      = np.zeros([n_grid**2,2])\n",
      "Xgrid[:,0] = np.reshape(x1,(n_grid**2,))\n",
      "Xgrid[:,1] = np.reshape(x2,(n_grid**2,))\n",
      "\n",
      "# predicted probabilities\n",
      "clf_grid = clf.predict_prob(Xgrid)[:,1]\n",
      "\n",
      "plt.figure(figsize=(12,8))\n",
      "plt.contourf(X1,X2,np.reshape(clf_grid,(n_grid,n_grid)),\n",
      "                   cmap=\"coolwarm\")\n",
      "plt.colorbar()\n",
      "plt.plot(X[Y==0, 0], X[Y==0,1], 'bo', markersize = 3)\n",
      "plt.plot(X[Y==1, 0], X[Y==1,1], 'ro', markersize = 3)\n",
      "plt.xlabel('x1')\n",
      "plt.ylabel('x2')\n",
      "plt.title('Predictive distribution')\n",
      "plt.show()"
     ],
     "language": "python",
     "metadata": {},
     "outputs": [
      {
       "output_type": "stream",
       "stream": "stdout",
       "text": [
        "\n",
        " Confusion Matrix on test set\n",
        "\n",
        "[[295   0]\n",
        " [  0 305]]\n"
       ]
      },
      {
       "metadata": {},
       "output_type": "display_data",
       "png": "[encoded data removed]",
       "text": [
        "<matplotlib.figure.Figure at 0x10f1419d0>"
       ]
      }
     ],
     "prompt_number": 60
    }
   ],
   "metadata": {}
  }
 ]
}