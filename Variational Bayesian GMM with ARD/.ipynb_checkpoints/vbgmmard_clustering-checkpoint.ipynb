{
 "metadata": {
  "name": "",
  "signature": "sha256:4ee7d40f0fd9ca418092402ed3d584e62b2fc0fbd11833129be359c182dab14e"
 },
 "nbformat": 3,
 "nbformat_minor": 0,
 "worksheets": []
}